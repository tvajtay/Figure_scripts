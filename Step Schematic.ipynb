{
 "cells": [
  {
   "cell_type": "code",
   "execution_count": 2,
   "metadata": {},
   "outputs": [
    {
     "data": {
      "image/png": "[encoded data removed]",
      "text/plain": [
       "<matplotlib.figure.Figure at 0x25de2122e8>"
      ]
     },
     "metadata": {},
     "output_type": "display_data"
    }
   ],
   "source": [
    "%matplotlib inline\n",
    "import matplotlib.pyplot as plt\n",
    "import numpy as np\n",
    "\n",
    "x = np.arange(700,2500,1)\n",
    "index = [1,3,10,20,50,100,1000,5]\n",
    "ax = plt.subplot()\n",
    "for j in index:\n",
    "    y1 = np.repeat(0,300)\n",
    "    y2 = np.repeat(0.5,j)\n",
    "    y3 = np.repeat(0,(1500-j))\n",
    "    y = np.concatenate((y1,y2,y3))\n",
    "    if j == 5:\n",
    "        ax.plot(x,y,'r', label = '5ms Stimulus')\n",
    "    elif j == 1000:\n",
    "        ax.plot(x,y,'k', label = '1000ms Stimulus')\n",
    "    else:\n",
    "        ax.plot(x,y,'0.4')\n",
    "        \n",
    "plt.ylim(0,5)\n",
    "ax.spines['top'].set_visible(False)\n",
    "ax.spines['bottom'].set_visible(False)\n",
    "ax.spines['right'].set_visible(False)\n",
    "ax.spines['left'].set_visible(False)\n",
    "ax.set_xticks([])\n",
    "ax.set_yticks([])\n",
    "#plt.xlim(950,1100)\n",
    "fig = plt.gcf()\n",
    "fig.set_size_inches(2,2)\n",
    "plt.legend()\n",
    "plt.savefig('Stim-schematic.svg')\n",
    "plt.show()"
   ]
  },
  {
   "cell_type": "code",
   "execution_count": null,
   "metadata": {},
   "outputs": [],
   "source": []
  }
 ],
 "metadata": {
  "kernelspec": {
   "display_name": "Python 3",
   "language": "python",
   "name": "python3"
  },
  "language_info": {
   "codemirror_mode": {
    "name": "ipython",
    "version": 3
   },
   "file_extension": ".py",
   "mimetype": "text/x-python",
   "name": "python",
   "nbconvert_exporter": "python",
   "pygments_lexer": "ipython3",
   "version": "3.6.3"
  }
 },
 "nbformat": 4,
 "nbformat_minor": 2
}
