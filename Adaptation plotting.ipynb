{
 "cells": [
  {
   "cell_type": "code",
   "execution_count": 1,
   "metadata": {},
   "outputs": [
    {
     "ename": "FileNotFoundError",
     "evalue": "[Errno 2] No such file or directory: 'c1_freq.mat'",
     "output_type": "error",
     "traceback": [
      "\u001b[1;31m---------------------------------------------------------------------------\u001b[0m",
      "\u001b[1;31mFileNotFoundError\u001b[0m                         Traceback (most recent call last)",
      "\u001b[1;32m<ipython-input-1-00e5d59f20f5>\u001b[0m in \u001b[0;36m<module>\u001b[1;34m()\u001b[0m\n\u001b[0;32m      3\u001b[0m \u001b[1;32mimport\u001b[0m \u001b[0mscipy\u001b[0m\u001b[1;33m.\u001b[0m\u001b[0mio\u001b[0m \u001b[1;32mas\u001b[0m \u001b[0msci\u001b[0m\u001b[1;33m\u001b[0m\u001b[0m\n\u001b[0;32m      4\u001b[0m \u001b[1;33m\u001b[0m\u001b[0m\n\u001b[1;32m----> 5\u001b[1;33m \u001b[0mmat\u001b[0m \u001b[1;33m=\u001b[0m \u001b[0msci\u001b[0m\u001b[1;33m.\u001b[0m\u001b[0mloadmat\u001b[0m\u001b[1;33m(\u001b[0m\u001b[1;34m'c1_freq.mat'\u001b[0m\u001b[1;33m)\u001b[0m\u001b[1;33m\u001b[0m\u001b[0m\n\u001b[0m\u001b[0;32m      6\u001b[0m \u001b[0mplt\u001b[0m\u001b[1;33m.\u001b[0m\u001b[0mrcParams\u001b[0m\u001b[1;33m[\u001b[0m\u001b[1;34m'font.family'\u001b[0m\u001b[1;33m]\u001b[0m \u001b[1;33m=\u001b[0m \u001b[1;34m\"Arial\"\u001b[0m\u001b[1;33m\u001b[0m\u001b[0m\n\u001b[0;32m      7\u001b[0m \u001b[0mplt\u001b[0m\u001b[1;33m.\u001b[0m\u001b[0mrcParams\u001b[0m\u001b[1;33m.\u001b[0m\u001b[0mupdate\u001b[0m\u001b[1;33m(\u001b[0m\u001b[1;33m{\u001b[0m\u001b[1;34m'font.size'\u001b[0m\u001b[1;33m:\u001b[0m \u001b[1;36m12\u001b[0m\u001b[1;33m}\u001b[0m\u001b[1;33m)\u001b[0m\u001b[1;33m\u001b[0m\u001b[0m\n",
      "\u001b[1;32m~\\Continuum\\anaconda3\\lib\\site-packages\\scipy\\io\\matlab\\mio.py\u001b[0m in \u001b[0;36mloadmat\u001b[1;34m(file_name, mdict, appendmat, **kwargs)\u001b[0m\n\u001b[0;32m    133\u001b[0m     \"\"\"\n\u001b[0;32m    134\u001b[0m     \u001b[0mvariable_names\u001b[0m \u001b[1;33m=\u001b[0m \u001b[0mkwargs\u001b[0m\u001b[1;33m.\u001b[0m\u001b[0mpop\u001b[0m\u001b[1;33m(\u001b[0m\u001b[1;34m'variable_names'\u001b[0m\u001b[1;33m,\u001b[0m \u001b[1;32mNone\u001b[0m\u001b[1;33m)\u001b[0m\u001b[1;33m\u001b[0m\u001b[0m\n\u001b[1;32m--> 135\u001b[1;33m     \u001b[0mMR\u001b[0m \u001b[1;33m=\u001b[0m \u001b[0mmat_reader_factory\u001b[0m\u001b[1;33m(\u001b[0m\u001b[0mfile_name\u001b[0m\u001b[1;33m,\u001b[0m \u001b[0mappendmat\u001b[0m\u001b[1;33m,\u001b[0m \u001b[1;33m**\u001b[0m\u001b[0mkwargs\u001b[0m\u001b[1;33m)\u001b[0m\u001b[1;33m\u001b[0m\u001b[0m\n\u001b[0m\u001b[0;32m    136\u001b[0m     \u001b[0mmatfile_dict\u001b[0m \u001b[1;33m=\u001b[0m \u001b[0mMR\u001b[0m\u001b[1;33m.\u001b[0m\u001b[0mget_variables\u001b[0m\u001b[1;33m(\u001b[0m\u001b[0mvariable_names\u001b[0m\u001b[1;33m)\u001b[0m\u001b[1;33m\u001b[0m\u001b[0m\n\u001b[0;32m    137\u001b[0m     \u001b[1;32mif\u001b[0m \u001b[0mmdict\u001b[0m \u001b[1;32mis\u001b[0m \u001b[1;32mnot\u001b[0m \u001b[1;32mNone\u001b[0m\u001b[1;33m:\u001b[0m\u001b[1;33m\u001b[0m\u001b[0m\n",
      "\u001b[1;32m~\\Continuum\\anaconda3\\lib\\site-packages\\scipy\\io\\matlab\\mio.py\u001b[0m in \u001b[0;36mmat_reader_factory\u001b[1;34m(file_name, appendmat, **kwargs)\u001b[0m\n\u001b[0;32m     56\u001b[0m        \u001b[0mtype\u001b[0m \u001b[0mdetected\u001b[0m \u001b[1;32min\u001b[0m\u001b[0;31m \u001b[0m\u001b[0;31m`\u001b[0m\u001b[0mfilename\u001b[0m\u001b[0;31m`\u001b[0m\u001b[1;33m.\u001b[0m\u001b[1;33m\u001b[0m\u001b[0m\n\u001b[0;32m     57\u001b[0m     \"\"\"\n\u001b[1;32m---> 58\u001b[1;33m     \u001b[0mbyte_stream\u001b[0m \u001b[1;33m=\u001b[0m \u001b[0m_open_file\u001b[0m\u001b[1;33m(\u001b[0m\u001b[0mfile_name\u001b[0m\u001b[1;33m,\u001b[0m \u001b[0mappendmat\u001b[0m\u001b[1;33m)\u001b[0m\u001b[1;33m\u001b[0m\u001b[0m\n\u001b[0m\u001b[0;32m     59\u001b[0m     \u001b[0mmjv\u001b[0m\u001b[1;33m,\u001b[0m \u001b[0mmnv\u001b[0m \u001b[1;33m=\u001b[0m \u001b[0mget_matfile_version\u001b[0m\u001b[1;33m(\u001b[0m\u001b[0mbyte_stream\u001b[0m\u001b[1;33m)\u001b[0m\u001b[1;33m\u001b[0m\u001b[0m\n\u001b[0;32m     60\u001b[0m     \u001b[1;32mif\u001b[0m \u001b[0mmjv\u001b[0m \u001b[1;33m==\u001b[0m \u001b[1;36m0\u001b[0m\u001b[1;33m:\u001b[0m\u001b[1;33m\u001b[0m\u001b[0m\n",
      "\u001b[1;32m~\\Continuum\\anaconda3\\lib\\site-packages\\scipy\\io\\matlab\\mio.py\u001b[0m in \u001b[0;36m_open_file\u001b[1;34m(file_like, appendmat)\u001b[0m\n\u001b[0;32m     21\u001b[0m     \u001b[1;32mif\u001b[0m \u001b[0misinstance\u001b[0m\u001b[1;33m(\u001b[0m\u001b[0mfile_like\u001b[0m\u001b[1;33m,\u001b[0m \u001b[0mstring_types\u001b[0m\u001b[1;33m)\u001b[0m\u001b[1;33m:\u001b[0m\u001b[1;33m\u001b[0m\u001b[0m\n\u001b[0;32m     22\u001b[0m         \u001b[1;32mtry\u001b[0m\u001b[1;33m:\u001b[0m\u001b[1;33m\u001b[0m\u001b[0m\n\u001b[1;32m---> 23\u001b[1;33m             \u001b[1;32mreturn\u001b[0m \u001b[0mopen\u001b[0m\u001b[1;33m(\u001b[0m\u001b[0mfile_like\u001b[0m\u001b[1;33m,\u001b[0m \u001b[1;34m'rb'\u001b[0m\u001b[1;33m)\u001b[0m\u001b[1;33m\u001b[0m\u001b[0m\n\u001b[0m\u001b[0;32m     24\u001b[0m         \u001b[1;32mexcept\u001b[0m \u001b[0mIOError\u001b[0m \u001b[1;32mas\u001b[0m \u001b[0me\u001b[0m\u001b[1;33m:\u001b[0m\u001b[1;33m\u001b[0m\u001b[0m\n\u001b[0;32m     25\u001b[0m             \u001b[1;32mif\u001b[0m \u001b[0mappendmat\u001b[0m \u001b[1;32mand\u001b[0m \u001b[1;32mnot\u001b[0m \u001b[0mfile_like\u001b[0m\u001b[1;33m.\u001b[0m\u001b[0mendswith\u001b[0m\u001b[1;33m(\u001b[0m\u001b[1;34m'.mat'\u001b[0m\u001b[1;33m)\u001b[0m\u001b[1;33m:\u001b[0m\u001b[1;33m\u001b[0m\u001b[0m\n",
      "\u001b[1;31mFileNotFoundError\u001b[0m: [Errno 2] No such file or directory: 'c1_freq.mat'"
     ]
    }
   ],
   "source": [
    "import matplotlib.pyplot as plt\n",
    "import numpy as np\n",
    "import scipy.io as sci\n",
    "\n",
    "mat = sci.loadmat('c1_freq.mat')\n",
    "\n",
    "bar_input = mat['bar_input']\n",
    "ebars = mat['ebars']\n",
    "N = 3\n",
    "ind = np.arange(N)  # the x locations for the groups\n",
    "width = 0.35       # the width of the bars\n",
    "ind = ind*2\n",
    "fig, ax = plt.subplots(figsize=(12,6))\n",
    "rects0 = ax.bar(ind, bar_input[0,:], width, color='0.9', yerr=ebars[0,:], capsize=5)\n",
    "rects1 = ax.bar(ind + width, bar_input[1,:], width, color='0.8', yerr=ebars[1,:], capsize=5)\n",
    "rects2 = ax.bar(ind + width*2, bar_input[2,:], width, color='0.7', yerr=ebars[2,:], capsize=5)\n",
    "rects3 = ax.bar(ind + width*3, bar_input[3,:], width, color='0.6', yerr=ebars[3,:], capsize=5)\n",
    "rects4 = ax.bar(ind + width*4, bar_input[4,:], width, color='0.5', yerr=ebars[4,:], capsize=5)\n",
    "\n",
    "# add some text for labels, title and axes ticks\n",
    "ax.set_ylabel('Adaptation Index')\n",
    "ax.set_title('Last Peak / First Peak amplitude')\n",
    "ax.set_xticks(ind + (width*4) / 2)\n",
    "ax.set_xticklabels(('Baseline', 'Day 0-Morning', 'Day 0-Afternoon'))\n",
    "\n",
    "ax.legend((rects0, rects1, rects2, rects3, rects4), ('3Hz', '7Hz','10Hz','15Hz','20Hz'))\n",
    "plt.savefig('Chat_freq_adaptation_1tolast.eps')\n",
    "plt.show()"
   ]
  },
  {
   "cell_type": "code",
   "execution_count": 40,
   "metadata": {
    "scrolled": true
   },
   "outputs": [
    {
     "data": {
      "image/png": "[encoded data removed]",
      "text/plain": [
       "<matplotlib.figure.Figure at 0x3345e097b8>"
      ]
     },
     "metadata": {},
     "output_type": "display_data"
    }
   ],
   "source": [
    "import matplotlib.pyplot as plt\n",
    "import numpy as np\n",
    "import scipy.io as sci\n",
    "\n",
    "mat = sci.loadmat('emx-drug-bar.mat')\n",
    "\n",
    "plt.rcParams['font.family'] = \"Arial\"\n",
    "plt.rcParams.update({'font.size': 10})\n",
    "plt.rcParams['savefig.bbox'] = 'tight'\n",
    "\n",
    "bar_input = mat['a']\n",
    "ebars = mat['st']\n",
    "bar_input = np.transpose(bar_input)\n",
    "ebars = np.transpose(ebars)\n",
    "N = 2\n",
    "ind = np.arange(N)  # the x locations for the groups\n",
    "width = 0.35       # the width of the bars\n",
    "ind = ind*1.2\n",
    "fig, ax = plt.subplots()\n",
    "rects0 = ax.bar(ind, bar_input[0,:], width, color='0.7', yerr=ebars[0,:], capsize=5)\n",
    "rects1 = ax.bar(ind + width, bar_input[1,:], width, color='0.5', yerr=ebars[1,:], capsize=5)\n",
    "rects2 = ax.bar(ind + width*2, bar_input[2,:], width, color='0.3', yerr=ebars[1,:], capsize=5)\n",
    "# add some text for labels, title and axes ticks\n",
    "ax.set_ylabel('Average Power 5-8Hz')\n",
    "ax.set_xticks(ind + (width*2) / 2)\n",
    "ax.set_xticklabels(('Baseline', '+7 Days'))\n",
    "ax.set_ylim(0,0.15)\n",
    "ax.yaxis.set_minor_locator(minor_locator)\n",
    "plt.tick_params(which='major', length=5)\n",
    "plt.tick_params(which='minor', length=3)\n",
    "ax.spines['top'].set_visible(False)\n",
    "ax.spines['right'].set_visible(False)\n",
    "ax.spines['bottom'].set_linewidth(1)\n",
    "ax.spines['left'].set_linewidth(1)\n",
    "fig = plt.gcf()\n",
    "fig.set_size_inches(2,2)\n",
    "\n",
    "ax.legend((rects0, rects1, rects2), ('Control', 'DMSO','Dantrolene'),fontsize = 9, loc = 'upper left')\n",
    "plt.savefig('EMX_drug-baselinetoday7.svg')\n",
    "plt.show()"
   ]
  },
  {
   "cell_type": "code",
   "execution_count": 24,
   "metadata": {},
   "outputs": [
    {
     "data": {
      "image/png": "[encoded data removed]",
      "text/plain": [
       "<matplotlib.figure.Figure at 0x7bf4830d68>"
      ]
     },
     "metadata": {},
     "output_type": "display_data"
    }
   ],
   "source": [
    "%matplotlib inline\n",
    "from brokenaxes import brokenaxes\n",
    "import matplotlib.pyplot as plt\n",
    "import numpy as np\n",
    "import scipy.io as sci\n",
    "from matplotlib.ticker import AutoMinorLocator\n",
    "\n",
    "plt.rcParams['font.family'] = \"Arial\"\n",
    "plt.rcParams.update({'font.size': 10})\n",
    "plt.rcParams['savefig.bbox'] = 'tight'\n",
    "plt.rcParams['lines.markersize'] = 4\n",
    "\n",
    "mat = sci.loadmat('emx_ai.mat')\n",
    "minor_locator = AutoMinorLocator(2)\n",
    "minor_locatorx = AutoMinorLocator(2)\n",
    "\n",
    "y = mat['bar_input']\n",
    "error = mat['ebars']\n",
    "x = [-2,0,1,2,3,4,7,8,9,10]\n",
    "error = error[:,0]\n",
    "y = y[:,0]\n",
    "\n",
    "\n",
    "fig, bax = plt.subplots()\n",
    "bax.plot(x, y,color='k')\n",
    "bax.plot(x, y,'ko')\n",
    "bax.fill_between(x, y-error, y+error,facecolor='0.7')\n",
    "\n",
    "bax.vlines(0,-0.1,1,color = 'k', linestyles = 'dashed')\n",
    "bax.set_ylabel('Adaptation Index')\n",
    "bax.set_xlabel('Days After Lesion')\n",
    "bax.set_ylim(-0.1,1)\n",
    "bax.yaxis.set_minor_locator(minor_locator)\n",
    "bax.xaxis.set_minor_locator(minor_locatorx)\n",
    "plt.gcf().set_size_inches(2,2)\n",
    "plt.xticks([-2,0,2,4,6,8,10],('Pre','0','2','4','6','8','10'))\n",
    "plt.tick_params(which='major', length=5)\n",
    "plt.tick_params(which='minor', length=3)\n",
    "bax.spines['top'].set_visible(False)\n",
    "bax.spines['right'].set_visible(False)\n",
    "plt.gcf().set_size_inches(2,2)\n",
    "plt.savefig('EMX-Ai_OverDays.svg')\n",
    "plt.show()\n"
   ]
  },
  {
   "cell_type": "code",
   "execution_count": 22,
   "metadata": {},
   "outputs": [
    {
     "data": {
      "image/png": "[encoded data removed]",
      "text/plain": [
       "<matplotlib.figure.Figure at 0x7bf48f3c88>"
      ]
     },
     "metadata": {},
     "output_type": "display_data"
    }
   ],
   "source": [
    "mat = sci.loadmat('emx_air.mat')\n",
    "\n",
    "bar_input = mat['bar_input']\n",
    "ebars = mat['ebars']\n",
    "x = [-2,0,1,2,3,4,7,8,9,10]\n",
    "y = bar_input[:,0]\n",
    "error = ebars[:,0]\n",
    "\n",
    "fig, bax = plt.subplots()\n",
    "bax.plot(x, y,color='k')\n",
    "bax.plot(x, y,'ko')\n",
    "bax.fill_between(x, y-error, y+error,facecolor='0.7')\n",
    "\n",
    "bax.vlines(0,-0.5,1.25,color = 'k', linestyles = 'dashed')\n",
    "bax.set_ylabel('Adaptation Index')\n",
    "bax.set_xlabel('Days After Lesion')\n",
    "bax.set_ylim(-0.5,1.25)\n",
    "bax.yaxis.set_minor_locator(minor_locator)\n",
    "bax.xaxis.set_minor_locator(minor_locatorx)\n",
    "plt.gcf().set_size_inches(2,2)\n",
    "plt.xticks([-2,0,2,4,6,8,10],('Pre','0','2','4','6','8','10'))\n",
    "plt.tick_params(which='major', length=5)\n",
    "plt.tick_params(which='minor', length=3)\n",
    "bax.spines['top'].set_visible(False)\n",
    "bax.spines['right'].set_visible(False)\n",
    "plt.savefig('EMX-Ai_OverDaysr.svg')\n",
    "plt.show()\n"
   ]
  },
  {
   "cell_type": "code",
   "execution_count": 25,
   "metadata": {},
   "outputs": [
    {
     "data": {
      "image/png": "[encoded data removed]",
      "text/plain": [
       "<matplotlib.figure.Figure at 0x7bf493d828>"
      ]
     },
     "metadata": {},
     "output_type": "display_data"
    }
   ],
   "source": [
    "mat = sci.loadmat('acta_ai.mat')\n",
    "\n",
    "bar_input = mat['bar_input']\n",
    "ebars = mat['ebars']\n",
    "x = [-2,0,1,2,3,4,7,8,9,10]\n",
    "y = bar_input[:,0]\n",
    "error = ebars[:,0]\n",
    "\n",
    "fig, bax = plt.subplots()\n",
    "bax.plot(x, y,color='k')\n",
    "bax.plot(x, y,'ko')\n",
    "bax.fill_between(x, y-error, y+error,facecolor='0.7')\n",
    "bax.vlines(0,-0.1,1.25,color = 'k', linestyles = 'dashed')\n",
    "bax.set_ylabel('Adaptation Index')\n",
    "bax.set_xlabel('Days After Lesion')\n",
    "bax.set_ylim(-0.1,1)\n",
    "bax.yaxis.set_minor_locator(minor_locator)\n",
    "bax.xaxis.set_minor_locator(minor_locatorx)\n",
    "plt.gcf().set_size_inches(2,2)\n",
    "plt.xticks([-2,0,2,4,6,8,10],('Pre','0','2','4','6','8','10'))\n",
    "plt.tick_params(which='major', length=5)\n",
    "plt.tick_params(which='minor', length=3)\n",
    "bax.spines['top'].set_visible(False)\n",
    "bax.spines['right'].set_visible(False)\n",
    "plt.savefig('ACTA-Ai_OverDays.svg')\n",
    "plt.show()"
   ]
  },
  {
   "cell_type": "code",
   "execution_count": 26,
   "metadata": {},
   "outputs": [
    {
     "data": {
      "image/png": "[encoded data removed]",
      "text/plain": [
       "<matplotlib.figure.Figure at 0x7bf497a2e8>"
      ]
     },
     "metadata": {},
     "output_type": "display_data"
    }
   ],
   "source": [
    "mat = sci.loadmat('EMX-FFT.mat')\n",
    "\n",
    "bar_input = mat['av']\n",
    "x = [-2,0,1,2,3,4,7,8,9,10]\n",
    "y = bar_input[:,0]\n",
    "error = bar_input[:,1]\n",
    "\n",
    "fig, bax = plt.subplots()\n",
    "bax.plot(x, y,color='k')\n",
    "bax.plot(x, y,'ko')\n",
    "bax.fill_between(x, y-error, y+error,facecolor='0.7')\n",
    "minor_locatorx = AutoMinorLocator(2)\n",
    "minor_locatory = AutoMinorLocator(2)\n",
    "bax.vlines(0,-0.05,0.2,color = 'k', linestyles = 'dashed')\n",
    "bax.set_ylabel('Amplitude(\\xb0)')\n",
    "bax.set_xlabel('Days After Lesion')\n",
    "bax.set_ylim(-0.01,0.15)\n",
    "plt.xticks([-2,0,2,4,6,8,10],('Pre','0','2','4','6','8','10'))\n",
    "plt.yticks([0,0.05,0.1,0.15])\n",
    "bax.yaxis.set_minor_locator(minor_locatory)\n",
    "bax.xaxis.set_minor_locator(minor_locatorx)\n",
    "plt.tick_params(which='major', length=5)\n",
    "plt.tick_params(which='minor', length=3)\n",
    "bax.spines['top'].set_visible(False)\n",
    "bax.spines['right'].set_visible(False)\n",
    "plt.gcf().set_size_inches(2,2)\n",
    "plt.savefig('EMX-FFT_OverDays.svg')\n",
    "plt.show()"
   ]
  },
  {
   "cell_type": "code",
   "execution_count": null,
   "metadata": {},
   "outputs": [],
   "source": []
  },
  {
   "cell_type": "code",
   "execution_count": 13,
   "metadata": {},
   "outputs": [],
   "source": [
    "import matplotlib.pyplot as plt\n",
    "import numpy as np\n",
    "import scipy.io as sci\n",
    "\n",
    "mat = sci.loadmat('emx-drug-bar.mat')\n",
    "\n",
    "plt.rcParams['font.family'] = \"Arial\"\n",
    "plt.rcParams.update({'font.size': 12})\n",
    "plt.rcParams['savefig.bbox'] = 'tight'"
   ]
  },
  {
   "cell_type": "code",
   "execution_count": null,
   "metadata": {},
   "outputs": [],
   "source": []
  }
 ],
 "metadata": {
  "kernelspec": {
   "display_name": "Python 3",
   "language": "python",
   "name": "python3"
  },
  "language_info": {
   "codemirror_mode": {
    "name": "ipython",
    "version": 3
   },
   "file_extension": ".py",
   "mimetype": "text/x-python",
   "name": "python",
   "nbconvert_exporter": "python",
   "pygments_lexer": "ipython3",
   "version": "3.6.3"
  }
 },
 "nbformat": 4,
 "nbformat_minor": 2
}
